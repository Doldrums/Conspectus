{
  "nbformat": 4,
  "nbformat_minor": 0,
  "metadata": {
    "colab": {
      "name": "Stack.ipynb",
      "version": "0.3.2",
      "provenance": [],
      "include_colab_link": true
    },
    "kernelspec": {
      "name": "python3",
      "display_name": "Python 3"
    }
  },
  "cells": [
    {
      "cell_type": "markdown",
      "metadata": {
        "id": "view-in-github",
        "colab_type": "text"
      },
      "source": [
        "<a href=\"https://colab.research.google.com/github/kinjalik/conspects/blob/master/Stack.ipynb\" target=\"_parent\"><img src=\"https://colab.research.google.com/assets/colab-badge.svg\" alt=\"Open In Colab\"/></a>"
      ]
    },
    {
      "metadata": {
        "id": "Ed1qUeKkMtdb",
        "colab_type": "text"
      },
      "cell_type": "markdown",
      "source": [
        "# Структура данных — стэк\n",
        " \n",
        " Стэк работает по принципу «первый пришел — последний ушел».\n",
        "![alt text](https://i.ibb.co/7v2hdNx/29-A57-FD4-40-DB-4-B03-AA51-5-D7-C8-E2512-C9.jpg)\n",
        " ## Использование\n",
        " ```c++\n",
        " #include <stack>\n",
        " stack<type> name;\n",
        "\n",
        " name.size() // Количество элементов в стэке\n",
        " name.empty() // Проверка стэка на пустоту\n",
        " ```\n",
        "\n",
        " ## Калькулятор\n",
        "Порядок кнопок: 7, 1, §, 3, §, 8, *, -, 2, §, 3, §, 5, *, 4, /, -, /, 1, 1, +\n",
        "\n",
        "постановуа задачи: на вход программе в первой строке поступает колиество элементов, затем идут сами жлементы по одному в строке. Все числа вещественные. Выдать результат вычисления\n",
        "\n",
        "### Тесты\n",
        "**Вход:**\n",
        "```\n",
        "14\n",
        "561\n",
        "9\n",
        "3\n",
        "*\n",
        "6\n",
        "cos\n",
        "+\n",
        "+\n",
        "164\n",
        "log10\n",
        "1025\n",
        "log2\n",
        "+\n",
        "/\n",
        "```\n",
        "**Выход:** ´48,21"
      ]
    }
  ]
}