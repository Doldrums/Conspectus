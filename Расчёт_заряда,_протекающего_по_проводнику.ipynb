{
  "nbformat": 4,
  "nbformat_minor": 0,
  "metadata": {
    "colab": {
      "name": "Расчёт заряда, протекающего по проводнику",
      "version": "0.3.2",
      "provenance": [],
      "include_colab_link": true
    },
    "kernelspec": {
      "name": "python3",
      "display_name": "Python 3"
    }
  },
  "cells": [
    {
      "cell_type": "markdown",
      "metadata": {
        "id": "view-in-github",
        "colab_type": "text"
      },
      "source": [
        "<a href=\"https://colab.research.google.com/github/kinjalik/conspects/blob/master/%D0%A0%D0%B0%D1%81%D1%87%D1%91%D1%82_%D0%B7%D0%B0%D1%80%D1%8F%D0%B4%D0%B0%2C_%D0%BF%D1%80%D0%BE%D1%82%D0%B5%D0%BA%D0%B0%D1%8E%D1%89%D0%B5%D0%B3%D0%BE_%D0%BF%D0%BE_%D0%BF%D1%80%D0%BE%D0%B2%D0%BE%D0%B4%D0%BD%D0%B8%D0%BA%D1%83.ipynb\" target=\"_parent\"><img src=\"https://colab.research.google.com/assets/colab-badge.svg\" alt=\"Open In Colab\"/></a>"
      ]
    },
    {
      "metadata": {
        "id": "7jeLII8uAb_W",
        "colab_type": "text"
      },
      "cell_type": "markdown",
      "source": [
        "#Тема: Расчет заряда, протекающего через проводник.\n",
        "\n",
        "##План работы\n",
        "1. Получаем график $I=I(t)$\n",
        "2. Построим линию тренда и получим уравнение линии\n",
        "3. Получить первообразную\n",
        "4. Провести расчет кол-ва зарядов\n",
        "\n",
        "##Вывод\n",
        "Уравнение: $I(x) = 0,0004x^2—0,0521x+1,8632$.\n",
        "Первообразная: $f=\\frac{0,0005t^2}{3}-\\frac{0,0521t^2}{2}+1,8632t+q_0$ ($q_0=0$).\n",
        "\n",
        "##Расчеты\n",
        "$m(Li)= m_0\\times N = \\frac{\\mu}{N_A}=\\frac{7\\times 10^{-3}}{6\\times 10^{23}}\\times \\frac{54,012}{1,6\\times 10^{-3}}=3,93838\\times 10^{-3} g$.\n"
      ]
    }
  ]
}