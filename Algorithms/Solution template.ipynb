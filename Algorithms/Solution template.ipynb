{
 "cells": [
  {
   "cell_type": "markdown",
   "metadata": {},
   "source": [
    "# General Template of Solution\n",
    "\n",
    "Here, in block below, presented simple template for task solution."
   ]
  },
  {
   "cell_type": "markdown",
   "metadata": {},
   "source": [
    "## Code"
   ]
  },
  {
   "cell_type": "markdown",
   "metadata": {},
   "source": [
    "```c++\n",
    "#define FILENAME \"a+b\"\n",
    "\n",
    "#include <bits/stdc++.h>\n",
    "\n",
    "using namespace std;\n",
    "using ll = long long;\n",
    "using pii = pair<int, int>;\n",
    "using pll = pair<ll, ll>;\n",
    "\n",
    "#define all(x) (x).begin(), (x).end()\n",
    "\n",
    "void solve() {\n",
    "    // Code of Solution\n",
    "}\n",
    "\n",
    "int main() {\n",
    "    #ifndef LOCAL\n",
    "        #ifdef FILENAME\n",
    "            freopen(FILENAME\".in\", \"r\", stdin);\n",
    "            freopen(FILENAME\".out\", \"w\", stdout);\n",
    "        #else\n",
    "            freopen(\"input.txt\", \"r\", stdin);\n",
    "            freopen(\"output.txt\", \"w\", stdout);\n",
    "        #endif\n",
    "    #endif\n",
    "\n",
    "    solve();\n",
    "    return 0;\n",
    "}\n",
    "```"
   ]
  },
  {
   "cell_type": "markdown",
   "metadata": {},
   "source": [
    "## Explanation"
   ]
  },
  {
   "attachments": {},
   "cell_type": "markdown",
   "metadata": {},
   "source": [
    " ### Enviroment Variables `LOCAL` & `FILENAME`\n",
    "**Recomendation:** Add defination of variable, named `LOCAL`, in settings of compilation. For example, add into *CMakeLists.txt* `add_definitions(-DLOCAL)`.\n",
    "\n",
    "If `LOCAL` is defined, all I/O will be passed through `STDIO` (console). Else, depends on defination of FILENAME, I/O \n",
    "will be passed in `[FILENAME].in/out` file, or in `input/output.txt`."
   ]
  },
  {
   "cell_type": "markdown",
   "metadata": {},
   "source": [
    "### Library `bits/stdc++.h`\n",
    "In GNU C/C++ Compiler this header contains all includes for Standart Library, so there is no need in big number of includes for each feature (eg. `vector`, `string`)."
   ]
  },
  {
   "cell_type": "markdown",
   "metadata": {},
   "source": [
    "### Usings\n",
    "- `using namespace std` allows to use functions and types from `std` (STL) without namespace prefix `std::`.\n",
    "- `using ll = long long` allows to use short name `ll` for long-named type `long-long`.\n",
    "- `using pii = pair<int, int>` and `using pll = pair<ll, ll>` allow to use short names `pii` & `pll` for pairs of ints and long longs.\n",
    "- `#define all(x) (x).begin(), (x).end()` allows to short using of iterators in iterable containers (such as `vector`). Example: `sort(all(array))` becames `sort(array.begin(), array.end())`"
   ]
  },
  {
   "cell_type": "markdown",
   "metadata": {},
   "source": [
    "### Separation of main and solve\n",
    "Solution of task separated from `int main()` into `void solve()` for preventing situations, when I/O definitions are accidentally deleted."
   ]
  }
 ],
 "metadata": {
  "kernelspec": {
   "display_name": "C++17",
   "language": "C++17",
   "name": "xcpp17"
  },
  "language_info": {
   "codemirror_mode": "text/x-c++src",
   "file_extension": ".cpp",
   "mimetype": "text/x-c++src",
   "name": "c++",
   "version": "-std=c++17"
  }
 },
 "nbformat": 4,
 "nbformat_minor": 2
}
