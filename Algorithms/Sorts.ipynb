{
 "cells": [
  {
   "cell_type": "markdown",
   "metadata": {},
   "source": [
    "# Sorts"
   ]
  },
  {
   "cell_type": "markdown",
   "metadata": {},
   "source": [
    "## Assistive code"
   ]
  },
  {
   "cell_type": "markdown",
   "metadata": {},
   "source": [
    "### Example Array Generation"
   ]
  },
  {
   "cell_type": "code",
   "execution_count": 1,
   "metadata": {
    "scrolled": false
   },
   "outputs": [],
   "source": [
    "#define ARRAY_SIZE 10\n",
    "\n",
    "#include <iostream>\n",
    "#include <cstdlib>\n",
    "#include <algorithm>\n",
    "#include <string>\n",
    "#include <random>\n",
    "\n",
    "srand((int)time(0));\n",
    "\n",
    "int example[ARRAY_SIZE];\n",
    "for (int i = 0; i < ARRAY_SIZE; i++)\n",
    "    example[i] = (rand() % 100) + 1;"
   ]
  },
  {
   "cell_type": "code",
   "execution_count": 2,
   "metadata": {},
   "outputs": [
    {
     "data": {
      "text/plain": [
       "{ 9, 11, 52, 77, 87, 38, 64, 8, 72, 1 }"
      ]
     },
     "execution_count": 2,
     "metadata": {},
     "output_type": "execute_result"
    }
   ],
   "source": [
    "example"
   ]
  },
  {
   "cell_type": "markdown",
   "metadata": {},
   "source": [
    "### Pretty output for array"
   ]
  },
  {
   "cell_type": "code",
   "execution_count": 3,
   "metadata": {},
   "outputs": [],
   "source": [
    "// Function for pretty output of array\n",
    "template<typename ARR>\n",
    "std::string pretty_arr(ARR* array, int len) {\n",
    "    std::string res = \"{ \";\n",
    "    for (int i = 0; i < len; i++)\n",
    "        if (i == len - 1)\n",
    "            res += std::to_string(array[i]);\n",
    "        else\n",
    "            res += std::to_string(array[i]) + ' ';\n",
    "    return res + \" }\";\n",
    "}"
   ]
  },
  {
   "cell_type": "markdown",
   "metadata": {},
   "source": [
    "## Bubble Sort\n",
    "- *Type:* Exchange\n",
    "- *Speed:* $O(n^2)$"
   ]
  },
  {
   "cell_type": "markdown",
   "metadata": {},
   "source": [
    "### Visualizations\n",
    "- [University of San Fancisco](https://www.cs.usfca.edu/~galles/visualization/ComparisonSort.html)\n",
    "- [VisuAlgo](https://visualgo.net/en/sorting)\n",
    "- [SORTING.at Algorithm Comparsion](http://sorting.at)"
   ]
  },
  {
   "cell_type": "markdown",
   "metadata": {},
   "source": [
    "### Description"
   ]
  },
  {
   "cell_type": "markdown",
   "metadata": {},
   "source": [
    "In this algorithm in each outer iteration every element compares with neighbour elements and swaps them, if they have incorrect order. After each outer iteration, \"heaviest\" or \"lightest\" element is on last ($lastPosition - outerIter$) position in array, so there is no needs to iterate all elements again.\n",
    "\n",
    "$[1,6,2,8,\\boldsymbol{0},3,7,3] \\Longrightarrow [6,2,8,1,3,7,3,\\boldsymbol{0}]$\n",
    "\n",
    "$[\\boldsymbol{1},6,2,8,0,3,7,3] \\Longrightarrow [6,8,2,3,7,3,\\boldsymbol{1},\\boldsymbol{0}]$\n",
    "\n",
    "$[6,8,\\boldsymbol{2},3,7,3,1,0] \\Longrightarrow [8,6,3,7,3,\\boldsymbol{2},\\boldsymbol{1},\\boldsymbol{0}]$\n",
    "\n",
    "$[8,6,\\boldsymbol{3},7,3,2,1,0] \\Longrightarrow [8,6,7,3,\\boldsymbol{3},\\boldsymbol{2},\\boldsymbol{1},\\boldsymbol{0}] $\n",
    "\n",
    "$[8,\\boldsymbol{6},7,3,3,2,1,0] \\Longrightarrow [8,7,\\boldsymbol{6},\\boldsymbol{3},\\boldsymbol{3},\\boldsymbol{2},\\boldsymbol{1},\\boldsymbol{0}] $"
   ]
  },
  {
   "cell_type": "markdown",
   "metadata": {},
   "source": [
    "### Implementation"
   ]
  },
  {
   "cell_type": "code",
   "execution_count": 4,
   "metadata": {},
   "outputs": [],
   "source": [
    "void bubble_sort(int* array, int len) {\n",
    "    int counter = 0; // COUNTER CODE;\n",
    "    int comparsions = 0; // COUNTER CODE;\n",
    "    for (int i = 0; i < len; i++)\n",
    "        for (int j = 0; j < len - i - 1; j++) {\n",
    "            comparsions++; // COMPARSION IN IF BELOW; COUNTER CODE;\n",
    "            if (array[j] > array[j + 1]){\n",
    "                std::swap(array[j], array[j + 1]);\n",
    "                counter++; // COUNTER CODE\n",
    "            }\n",
    "        }\n",
    "    std::cout << \"Compared items:\\t\" << comparsions << '\\n'; // COUNTER CODE;\n",
    "    std::cout << \"Swaped items:\\t\" << counter << '\\n'; // COUNTER CODE;\n",
    "}"
   ]
  },
  {
   "cell_type": "code",
   "execution_count": 5,
   "metadata": {},
   "outputs": [
    {
     "name": "stdout",
     "output_type": "stream",
     "text": [
      "Source array:\t{ 9 11 52 77 87 38 64 8 72 1 }\n",
      "Compared items:\t45\n",
      "Swaped items:\t23\n",
      "Result array:\t{ 1 8 9 11 38 52 64 72 77 87 }"
     ]
    }
   ],
   "source": [
    "int bubble_example[ARRAY_SIZE];\n",
    "std::copy(std::begin(example), std::end(example), std::begin(bubble_example));\n",
    "std::cout << \"Source array:\\t\";\n",
    "std::cout << pretty_arr(bubble_example, ARRAY_SIZE) << '\\n';\n",
    "bubble_sort(bubble_example, ARRAY_SIZE);\n",
    "std::cout << \"Result array:\\t\";\n",
    "std::cout << pretty_arr(bubble_example, ARRAY_SIZE);"
   ]
  },
  {
   "cell_type": "markdown",
   "metadata": {},
   "source": [
    "## Cocktail sort\n",
    "- *Type:* Exchange\n",
    "- *Speed:* $O(n^2)$"
   ]
  },
  {
   "cell_type": "markdown",
   "metadata": {},
   "source": [
    "### Visualizations\n",
    "- [Algostructure](http://www.algostructure.com/sorting/cocktailsort.php)\n",
    "- [SORTING.at Algorithm Comparsion](http://sorting.at)"
   ]
  },
  {
   "cell_type": "markdown",
   "metadata": {},
   "source": [
    "### Description\n",
    "This algorithm is modified version on default bubble sort, but has two \"borders\", from each side, instead of one."
   ]
  },
  {
   "cell_type": "markdown",
   "metadata": {},
   "source": [
    "### Implementation"
   ]
  },
  {
   "cell_type": "code",
   "execution_count": 6,
   "metadata": {},
   "outputs": [],
   "source": [
    "void coctail_sort(int* array, int len) {\n",
    "    int counter = 0; // COUNTER CODE;\n",
    "    int comparsions = 0; // COUNTER CODE; \n",
    "    int left = 0;\n",
    "    int right = len - 1;\n",
    "    while (left <= right) {\n",
    "        comparsions++; // COMPARSION IN WHILE; COUNTER CODE;\n",
    "        for (int i = left; i < right; i++) {\n",
    "            comparsions++; // COMPARSION IN IF BELOW; COUNTER CODE;\n",
    "            if (array[i] > array[i + 1]) {\n",
    "                std::swap(array[i], array[i + 1]);\n",
    "                counter++; // COUNTER CODE;\n",
    "            }\n",
    "        }\n",
    "        right--;\n",
    "        for (int i = right; i > left; i--) {\n",
    "            comparsions++; // COMPARSION IN IF BELOW; COUNTER CODE;\n",
    "            if (array[i] < array[i - 1]) {\n",
    "                std::swap(array[i], array[i - 1]);\n",
    "                counter++; // COUNTER CODE;\n",
    "            }\n",
    "        }\n",
    "        left++;\n",
    "    }\n",
    "    std::cout << \"Compared items:\\t\" << comparsions << '\\n'; // COUNTER CODE;\n",
    "    std::cout << \"Swaped items:\\t\" << counter << '\\n'; // COUNTER CODE;\n",
    "}           "
   ]
  },
  {
   "cell_type": "code",
   "execution_count": 7,
   "metadata": {},
   "outputs": [
    {
     "name": "stdout",
     "output_type": "stream",
     "text": [
      "Source array:\t{ 9 11 52 77 87 38 64 8 72 1 }\n",
      "Compared items:\t50\n",
      "Swaped items:\t23\n",
      "Result array:\t{ 1 8 9 11 38 52 64 72 77 87 }"
     ]
    }
   ],
   "source": [
    "int coctail_example[ARRAY_SIZE];\n",
    "std::copy(std::begin(example), std::end(example), std::begin(coctail_example));\n",
    "std::cout << \"Source array:\\t\";\n",
    "std::cout << pretty_arr(coctail_example, ARRAY_SIZE) << '\\n';\n",
    "coctail_sort(coctail_example, ARRAY_SIZE);\n",
    "std::cout << \"Result array:\\t\";\n",
    "std::cout << pretty_arr(coctail_example, ARRAY_SIZE);"
   ]
  },
  {
   "cell_type": "markdown",
   "metadata": {},
   "source": [
    "## Comb Sort\n",
    "- *Type*: Exchange\n",
    "- *Worst time:* $O(n^2)$\n",
    "- *Best time:* $O(n\\times log(n))$"
   ]
  },
  {
   "cell_type": "markdown",
   "metadata": {},
   "source": [
    "### Visualization\n",
    "- [Algostructure](http://www.algostructure.com/sorting/combsort.php)\n",
    "- [Sort Algorithms Comparsion](http://sorting.at)"
   ]
  },
  {
   "cell_type": "markdown",
   "metadata": {},
   "source": [
    "### Description"
   ]
  },
  {
   "cell_type": "markdown",
   "metadata": {},
   "source": [
    "**Comb Sort** is modified version of *Bubble Sort*, that uses *gap* between comparsing elements. Usually, *gap* starts with size, same as size of sorting container, and after iterations *gap* divides on *shrink factor* (usually, $1.3$).\n",
    "\n",
    "Main reason of this modification is resourse-intensive situations, when very small value is in end of sequence."
   ]
  },
  {
   "cell_type": "markdown",
   "metadata": {},
   "source": [
    "### Implementation"
   ]
  },
  {
   "cell_type": "code",
   "execution_count": 8,
   "metadata": {},
   "outputs": [],
   "source": [
    "void comb_sort(int* array, int len) {\n",
    "    int counter = 0; // COUNTER CODE;\n",
    "    int comparsions = 0; // COUNTER CODE;\n",
    "    double shrink_factor = 1.3;\n",
    "    int gap = len - 1;\n",
    "    \n",
    "    while (gap >= 1) {\n",
    "        comparsions++; // COMPARSION IN WHILE; COUNTER CODE;\n",
    "        for (int i = 0; i < len - gap; i++) {\n",
    "            comparsions++; // COMPARSION IN IF BELOW; COUNTER CODE;\n",
    "            if (array[i] > array[i + gap]) {\n",
    "                std::swap(array[i], array[i + gap]);\n",
    "                counter++; // COUNTER CODE;\n",
    "            }\n",
    "        }\n",
    "        gap = gap / shrink_factor;\n",
    "    }\n",
    "    std::cout << \"Compared items:\\t\" << comparsions << '\\n'; // COUNTER CODE;\n",
    "    std::cout << \"Swaped items:\\t\" << counter << '\\n'; // COUNTER CODE;\n",
    "}"
   ]
  },
  {
   "cell_type": "code",
   "execution_count": 9,
   "metadata": {},
   "outputs": [
    {
     "name": "stdout",
     "output_type": "stream",
     "text": [
      "Source array:\t{ 9 11 52 77 87 38 64 8 72 1 }\n",
      "Compared items:\t41\n",
      "Swaped items:\t9\n",
      "Result array:\t{ 1 8 9 11 38 52 64 72 77 87 }"
     ]
    }
   ],
   "source": [
    "int comb_example[ARRAY_SIZE];\n",
    "std::copy(std::begin(example), std::end(example), std::begin(comb_example));\n",
    "std::cout << \"Source array:\\t\";\n",
    "std::cout << pretty_arr(comb_example, ARRAY_SIZE) << '\\n';\n",
    "comb_sort(comb_example, ARRAY_SIZE);\n",
    "std::cout << \"Result array:\\t\";\n",
    "std::cout << pretty_arr(comb_example, ARRAY_SIZE);"
   ]
  },
  {
   "cell_type": "markdown",
   "metadata": {},
   "source": [
    "## Odd-Even Sort\n",
    "- *Type:* Exchange\n",
    "- *Speed:* $O(n^2)$"
   ]
  },
  {
   "cell_type": "markdown",
   "metadata": {},
   "source": [
    "### Visualisation\n",
    "\n",
    "- [Algostructure](http://www.algostructure.com/sorting/oddevensort.php)"
   ]
  },
  {
   "cell_type": "markdown",
   "metadata": {},
   "source": [
    "### Description\n",
    "\n",
    "This algorithm is modification of default Bubble Sort with main correction, that odd and even elements compares independently"
   ]
  },
  {
   "cell_type": "markdown",
   "metadata": {},
   "source": [
    "### Implementation"
   ]
  },
  {
   "cell_type": "code",
   "execution_count": 10,
   "metadata": {},
   "outputs": [],
   "source": [
    "void odd_even_sort(int* array, int len) {\n",
    "    int counter = 0; // COUNTER CODE;\n",
    "    int comparsions = 0; // COUNTER CODE;\n",
    "    for (int i = 0; i < len - 1; i++) {\n",
    "        comparsions++; // COMPARSION IN IF BELOW; COUNTER CODE;\n",
    "        if (i % 2 == 0) {\n",
    "            for (int j = 2; j < len; j += 2) {\n",
    "                comparsions++; // COMPARSION IN IF BELOW; COUNTER CODE;\n",
    "                if (array[j] < array[j - 1]) {\n",
    "                    std::swap(array[j], array[j - 1]);\n",
    "                    counter++; // COUNTER CODE;\n",
    "                }\n",
    "            }\n",
    "        } else {\n",
    "            for (int j = 1; j < len; j += 2) {  \n",
    "                comparsions++; // COMPARSION IN IF BELOW; COUNTER CODE;\n",
    "                if (array[j] < array[j - 1]) {\n",
    "                    std::swap(array[j], array[j - 1]);\n",
    "                    counter++; // COUNTER CODE;\n",
    "                }\n",
    "            }\n",
    "        }\n",
    "    }\n",
    "    \n",
    "    std::cout << \"Compared items:\\t\" << comparsions << '\\n'; // COUNTER CODE;\n",
    "    std::cout << \"Swaped items:\\t\" << counter << '\\n'; // COUNTER CODE;\n",
    "}"
   ]
  },
  {
   "cell_type": "code",
   "execution_count": 11,
   "metadata": {},
   "outputs": [
    {
     "name": "stdout",
     "output_type": "stream",
     "text": [
      "Source array:\t{ 9 11 52 77 87 38 64 8 72 1 }\n",
      "Compared items:\t49\n",
      "Swaped items:\t22\n",
      "Result array:\t{ 8 1 9 11 38 52 64 72 77 87 }"
     ]
    }
   ],
   "source": [
    "int odd_even_example[ARRAY_SIZE];\n",
    "std::copy(std::begin(example), std::end(example), std::begin(odd_even_example));\n",
    "std::cout << \"Source array:\\t\";\n",
    "std::cout << pretty_arr(odd_even_example, ARRAY_SIZE) << '\\n';\n",
    "odd_even_sort(odd_even_example, ARRAY_SIZE);\n",
    "std::cout << \"Result array:\\t\";\n",
    "std::cout << pretty_arr(odd_even_example, ARRAY_SIZE);"
   ]
  },
  {
   "cell_type": "markdown",
   "metadata": {},
   "source": [
    "## Quick Sort\n",
    "- *Type:* Exchange\n",
    "- *Approx. Speed:* $O(n\\times log(n))$\n",
    "- *Worst-case Speed:* $O(n^2)$"
   ]
  },
  {
   "cell_type": "markdown",
   "metadata": {},
   "source": [
    "### Visualizations\n",
    "- [University of San Fancisco](https://www.cs.usfca.edu/~galles/visualization/ComparisonSort.html)\n",
    "- [VisuAlgo](https://visualgo.net/en/sorting)\n",
    "- [SORTING.at Algorithm Comparsion](http://sorting.at)"
   ]
  },
  {
   "cell_type": "markdown",
   "metadata": {},
   "source": [
    "### Description\n",
    "Main idea of **Quick Sort** is \"Divide & Conquer\". Source array divides into 2 subarrays, with \"small\" elements and with \"big\" elements, regarding the **Pivot** - number, which determines a border between \"big\" and \"small\" elements. After dividing, algorithm recursively calls for each part while there are at least 2 elements.\n",
    "\n",
    "For better understanding, algorithm could be divided into \"partition\" part and \"calling\" part.\n",
    "\n",
    "**Achtung:** I have no idea, how to take statistics from algorithm."
   ]
  },
  {
   "cell_type": "markdown",
   "metadata": {},
   "source": [
    "### Implementation"
   ]
  },
  {
   "cell_type": "code",
   "execution_count": 12,
   "metadata": {},
   "outputs": [],
   "source": [
    "/*\n",
    "\n",
    "Function takes Pivot as element on middle position of array ((l + r) / 2).\n",
    "\n",
    "Algorithm uses method of 2-way pointers: from beginning of array and from ending.\n",
    "First pointer increments until element, greater than pivot.\n",
    "Then decrements second pointer until first element, lesser than pivot.\n",
    "After all, elements swaps.\n",
    "\n",
    "When each pointers meets, partition proccess is over and function returns index of division.\n",
    "\n",
    "*/\n",
    "\n",
    "int partition(int* arr, int l, int r) {\n",
    "    int pivot = arr[(l + r) / 2];\n",
    "    int i = l;\n",
    "    int j = r;\n",
    "    while (i <= j) {\n",
    "        while (arr[i] < pivot)\n",
    "            i++;\n",
    "        while (arr[j] > pivot)\n",
    "            j--;\n",
    "        if (i >= j)\n",
    "            break;\n",
    "        std::swap(arr[i], arr[j]);\n",
    "        i++;\n",
    "        j--;\n",
    "    }\n",
    "    return j;\n",
    "}"
   ]
  },
  {
   "cell_type": "code",
   "execution_count": 13,
   "metadata": {},
   "outputs": [],
   "source": [
    "void quick_sort(int* arr, int l, int r) {\n",
    "    if (l < r) {\n",
    "        int q = partition(arr, l, r);\n",
    "        quick_sort(arr, l, q);\n",
    "        quick_sort(arr, q + 1, r);\n",
    "    }\n",
    "}"
   ]
  },
  {
   "cell_type": "code",
   "execution_count": 14,
   "metadata": {},
   "outputs": [
    {
     "name": "stdout",
     "output_type": "stream",
     "text": [
      "Source array:\t{ 9 11 52 77 87 38 64 8 72 1 }\n",
      "Result array:\t{ 1 8 9 11 38 52 64 72 77 87 }"
     ]
    }
   ],
   "source": [
    "int quick_example[ARRAY_SIZE];\n",
    "std::copy(std::begin(example), std::end(example), std::begin(quick_example));\n",
    "std::cout << \"Source array:\\t\";\n",
    "std::cout << pretty_arr(quick_example, ARRAY_SIZE) << '\\n';\n",
    "quick_sort(quick_example, 0, ARRAY_SIZE - 1);\n",
    "std::cout << \"Result array:\\t\";\n",
    "std::cout << pretty_arr(quick_example, ARRAY_SIZE);"
   ]
  },
  {
   "cell_type": "markdown",
   "metadata": {},
   "source": [
    "## Insertion Sort\n",
    "- *Type:* Insertion\n",
    "- *Speed:* $O(n^2)$."
   ]
  },
  {
   "cell_type": "markdown",
   "metadata": {},
   "source": [
    "### Visualisations"
   ]
  },
  {
   "cell_type": "markdown",
   "metadata": {},
   "source": [
    "- [University of San Francisco](https://www.cs.usfca.edu/~galles/visualization/ComparisonSort.html)\n",
    "- [Algostructure](http://www.algostructure.com/sorting/insertionsort.php)"
   ]
  },
  {
   "cell_type": "markdown",
   "metadata": {},
   "source": [
    "### Description"
   ]
  },
  {
   "cell_type": "markdown",
   "metadata": {},
   "source": [
    "This type of sort inserts every element into correct position of already sorted items.\n",
    "\n",
    "Every iteration algorithm selects current element and inserts it in position $j$, when condition $array[j - 1] < KEY$ becomes $FASLE$, or when it is smallest element of all sorted."
   ]
  },
  {
   "cell_type": "markdown",
   "metadata": {},
   "source": [
    "### Implementation"
   ]
  },
  {
   "cell_type": "code",
   "execution_count": 15,
   "metadata": {},
   "outputs": [],
   "source": [
    "void insertion_sort(int* array, int len) {\n",
    "    int counter = 0; // COUNTER CODE;\n",
    "    int comparsions = 0; // COUNTER CODE;\n",
    "    for (int i = 1; i < len; i++) {\n",
    "        \n",
    "        int KEY = array[i];\n",
    "        int j = i;\n",
    "        comparsions++; // LAST COMPARSION IN WHILE; COUNTER CODE;\n",
    "        while (j >= 1 && array[j - 1] > KEY) {\n",
    "            comparsions++; // COMPARSION IN WHILE; COUNTER CODE;\n",
    "            array[j] = array[j - 1];\n",
    "            j -= 1;\n",
    "            counter++; // COUNTER CODE;\n",
    "        }\n",
    "        array[j] = KEY;\n",
    "        if (j == i) // COUNTER CODE;\n",
    "            counter++; // COUNTER CODE;\n",
    "    }\n",
    "    std::cout << \"Compared items:\\t\" << comparsions << '\\n'; // COUNTER CODE;\n",
    "    std::cout << \"Swaped items:\\t\" << counter << '\\n'; // COUNTER CODE;\n",
    "}"
   ]
  },
  {
   "cell_type": "code",
   "execution_count": 16,
   "metadata": {},
   "outputs": [
    {
     "name": "stdout",
     "output_type": "stream",
     "text": [
      "Source array:\t{ 9 11 52 77 87 38 64 8 72 1 }\n",
      "Compared items:\t32\n",
      "Swaped items:\t27\n",
      "Result array:\t{ 1 8 9 11 38 52 64 72 77 87 }"
     ]
    }
   ],
   "source": [
    "int insertion_example[ARRAY_SIZE];\n",
    "std::copy(std::begin(example), std::end(example), std::begin(insertion_example));\n",
    "std::cout << \"Source array:\\t\";\n",
    "std::cout << pretty_arr(insertion_example, ARRAY_SIZE) << '\\n';\n",
    "insertion_sort(insertion_example, ARRAY_SIZE);\n",
    "std::cout << \"Result array:\\t\";\n",
    "std::cout << pretty_arr(insertion_example, ARRAY_SIZE);"
   ]
  },
  {
   "cell_type": "markdown",
   "metadata": {},
   "source": [
    "## Shell Sort\n",
    "- *Type*: Insertion\n",
    "- *Speed*: $O(n^2)$"
   ]
  },
  {
   "cell_type": "markdown",
   "metadata": {},
   "source": [
    "### Visualisations\n",
    "- [University of San Francisco](https://www.cs.usfca.edu/~galles/visualization/ComparisonSort.html)\n",
    "- [Algostructure](http://www.algostructure.com/sorting/shellsort.php)\n",
    "- [Sorting.At Comparsing](http://sorting.at)"
   ]
  },
  {
   "cell_type": "markdown",
   "metadata": {},
   "source": [
    "### Description\n",
    "**Shell Sort** is a modified version of *Insertion Sort*, which splits source array into a few sublists, whose elements are placed in source array with **gap**.\n",
    "\n",
    "**Gap** could be defined with big number of methods:\n",
    "- Initial value of Gap is half of array size, and decrease with ratio 2 every iteration.\n",
    "- Knuth's sequence: $G_i = 3 \\times i + 1$\n",
    "- Marcin Ciura's Sequence [A102549](https://oeis.org/A102549): 1, 4, 10, 23, 57, 132, 301, 701, 1750 *(Numbers are experimentally derived, so defined only 9 elements of sequence)*\n",
    "\n",
    "For code decomposition, you can extract sorting in sublist to another function (modified version of `insertion_sort`).\n",
    "\n",
    "**Example of Splitting\n",
    "```\n",
    "[9, 8, 7, 6, 5, 4, 3, 2, 1, 0] - Source Array\n",
    "GAP 5:\n",
    "[9,  ,  ,  ,  , 4,  ,  ,  ,  ]\n",
    "[ , 8,  ,  ,  ,  , 3,        ]\n",
    "[ ,  , 7,  ,  ,  ,  , 2,  ,  ]\n",
    "[ ,  ,  , 6,  ,  ,  ,  , 1,  ]\n",
    "[ ,  ,  ,  , 5,  ,  ,  ,  , 0]\n",
    "GAP 2:\n",
    "[9,  , 7,  , 5,  , 3,  , 1,  ]\n",
    "[ , 8,  , 6,  , 4,  , 2,  , 0]\n",
    "GAP 1:\n",
    "[9, 8, 7, 6, 5, 4, 3, 2, 1, 0]\n",
    "```"
   ]
  },
  {
   "cell_type": "markdown",
   "metadata": {},
   "source": [
    "### Implementation"
   ]
  },
  {
   "cell_type": "code",
   "execution_count": 17,
   "metadata": {},
   "outputs": [],
   "source": [
    "void insertion_gap_sort(int* array, int len, int gap, int& counter, int& comparsions) { // COUNTER CODE;\n",
    "    \n",
    "    for (int i = 1; i < len; i++) {\n",
    "        \n",
    "        int KEY = array[i];\n",
    "        int j = i;\n",
    "        comparsions++; // LAST COMPARSION IN WHILE; COUNTER CODE;\n",
    "        while (j >= gap && array[j - gap] > KEY) {\n",
    "            comparsions++; // COMPARSION IN WHILE; COUNTER CODE;\n",
    "            array[j] = array[j - gap];\n",
    "            j -= gap;\n",
    "            counter++;// COUNTER CODE;\n",
    "        }\n",
    "        array[j] = KEY;\n",
    "        if (i == j) // COUNTER CODE;\n",
    "            counter++; // COUNTER CODE;\n",
    "    }\n",
    "    \n",
    "}"
   ]
  },
  {
   "cell_type": "code",
   "execution_count": 18,
   "metadata": {},
   "outputs": [],
   "source": [
    "void shell_sort(int* array, int len) {\n",
    "    int counter = 0; // COUNTER CODE\n",
    "    int comparsions = 0; // COUNTER CODE;\n",
    "    for (int gap = len / 2; gap > 0; gap /= 2) {\n",
    "        insertion_gap_sort(array, len, gap, counter, comparsions);\n",
    "    }\n",
    "    std::cout << \"Compared items:\\t\" << comparsions << '\\n'; // COUNTER CODE;\n",
    "    std::cout << \"Swaped items:\\t\" << counter << '\\n'; // COUNTER CODE;\n",
    "}"
   ]
  },
  {
   "cell_type": "code",
   "execution_count": 19,
   "metadata": {},
   "outputs": [
    {
     "name": "stdout",
     "output_type": "stream",
     "text": [
      "Source array:\t{ 9 11 52 77 87 38 64 8 72 1 }\n",
      "Compared items:\t38\n",
      "Swaped items:\t29\n",
      "Result array:\t{ 1 8 9 11 38 52 64 72 77 87 }"
     ]
    }
   ],
   "source": [
    "int shell_example[ARRAY_SIZE];\n",
    "std::copy(std::begin(example), std::end(example), std::begin(shell_example));\n",
    "std::cout << \"Source array:\\t\";\n",
    "std::cout << pretty_arr(shell_example, ARRAY_SIZE) << '\\n';\n",
    "shell_sort(shell_example, ARRAY_SIZE);\n",
    "std::cout << \"Result array:\\t\";\n",
    "std::cout << pretty_arr(shell_example, ARRAY_SIZE);"
   ]
  },
  {
   "cell_type": "markdown",
   "metadata": {},
   "source": [
    "## Selection sort\n",
    "- *Type:* Selectional\n",
    "- *Speed:* $O(n^2)$"
   ]
  },
  {
   "cell_type": "markdown",
   "metadata": {},
   "source": [
    "### Visualization\n",
    "- [University of San Franciso](https://www.cs.usfca.edu/~galles/visualization/ComparisonSort.html)\n",
    "- [Algostructure](http://www.algostructure.com/sorting/selectionsort.php)\n",
    "- [Sorting.At Comparsion](http://sorting.at)"
   ]
  },
  {
   "cell_type": "markdown",
   "metadata": {},
   "source": [
    "### Description\n",
    "\n",
    "**Selection sort** splits source array into two parts: *sorted* and *unsorted*. Initial size of unsorted part is 0. \n",
    "Every iteration *sorted* part increases by 1 with minimal value in *unsorted* part."
   ]
  },
  {
   "cell_type": "markdown",
   "metadata": {},
   "source": [
    "### Implementation"
   ]
  },
  {
   "cell_type": "code",
   "execution_count": 20,
   "metadata": {},
   "outputs": [],
   "source": [
    "void selection_sort(int* array, int len) {\n",
    "    int counter = 0; // COUNTER CODE;\n",
    "    int comparsions = 0; // COUNTER CODE;\n",
    "    for (int i = 0; i < len - 1; i++) {\n",
    "        int minIndex = i;\n",
    "        for (int k = i + 1; k < len; k++) {\n",
    "            comparsions++; // COMPARSION IN IF BELOW; COUNTER CODE;\n",
    "            if (array[k] < array[minIndex])\n",
    "                minIndex = k;\n",
    "        }\n",
    "        if (minIndex != i) {\n",
    "            std::swap(array[minIndex], array[i]);\n",
    "            counter++; // COUNTER CODE;\n",
    "        }\n",
    "    }\n",
    "    \n",
    "    std::cout << \"Compared items:\\t\" << comparsions << '\\n'; // COUNTER CODE;\n",
    "    std::cout << \"Swaped items:\\t\" << counter << '\\n'; // COUNTER CODE;\n",
    "}"
   ]
  },
  {
   "cell_type": "code",
   "execution_count": 21,
   "metadata": {},
   "outputs": [
    {
     "name": "stdout",
     "output_type": "stream",
     "text": [
      "Source array:\t{ 9 11 52 77 87 38 64 8 72 1 }\n",
      "Compared items:\t45\n",
      "Swaped items:\t7\n",
      "Result array:\t{ 1 8 9 11 38 52 64 72 77 87 }"
     ]
    }
   ],
   "source": [
    "int selection_example[ARRAY_SIZE];\n",
    "std::copy(std::begin(example), std::end(example), std::begin(selection_example));\n",
    "std::cout << \"Source array:\\t\";\n",
    "std::cout << pretty_arr(selection_example, ARRAY_SIZE) << '\\n';\n",
    "selection_sort(selection_example, ARRAY_SIZE);\n",
    "std::cout << \"Result array:\\t\";\n",
    "std::cout << pretty_arr(selection_example, ARRAY_SIZE);"
   ]
  },
  {
   "cell_type": "markdown",
   "metadata": {},
   "source": [
    "## Merge Sort\n",
    "- *Type:* Merge (no stricted type)\n",
    "- *Speed:* $O(n\\times log(n))$ in all cases"
   ]
  },
  {
   "cell_type": "markdown",
   "metadata": {},
   "source": [
    "### Visualization\n",
    "- [University of San Franciso](https://www.cs.usfca.edu/~galles/visualization/ComparisonSort.html)\n",
    "- [Algostructure](http://www.algostructure.com/sorting/mergesort.php)"
   ]
  },
  {
   "cell_type": "markdown",
   "metadata": {},
   "source": [
    "### Description\n",
    "Main idea of **Merge Sort** is literally implementation of \"Divide And Conquer\", while source array splits into two subarrays, subarrays splits to another subarrays, and so on. After splitting subarrays sorts using any simple algorithm (or not using, if size of subarrays is 1) and merges. In one call of `merge_arrs` only 2 subarrays can be splitten.\n",
    "\n",
    "\n",
    "**ACHTUNG:** I don't know, how to take statistics"
   ]
  },
  {
   "cell_type": "markdown",
   "metadata": {},
   "source": [
    "### Implementation"
   ]
  },
  {
   "cell_type": "code",
   "execution_count": 22,
   "metadata": {},
   "outputs": [],
   "source": [
    "void merge_arrs(int* arr, int lb, int split, int ub) {\n",
    "    int p1 = lb; // Pointer to stat of unmerged part in left part\n",
    "    int p2 = split + 1; //.                             right part\n",
    "    int pos = 0; // Pointer to first free position in merged array\n",
    "\n",
    "    // Temporary array, which will contain array after merge \n",
    "    int* tmp = new int[ub - lb + 1];\n",
    "\n",
    "    // Merging arrays, while one of them is not merged\n",
    "    while (p1 <= split &&  p2 <= ub) { \n",
    "        if (arr[p1] < arr[p2]) {\n",
    "            tmp[pos] = arr[p1];\n",
    "            p1++;\n",
    "        } else {\n",
    "            tmp[pos] = arr[p2];\n",
    "            p2++;\n",
    "        }\n",
    "        pos++;\n",
    "    }\n",
    "\n",
    "    // Moving last elements into resulting array\n",
    "    while (p2 <= ub) {\n",
    "        tmp[pos] = arr[p2];\n",
    "        pos++;\n",
    "        p2++;\n",
    "    }\n",
    "    while (p1 <= split) {\n",
    "        tmp[pos] = arr[p1];\n",
    "        pos++;\n",
    "        p1++;\n",
    "    }\n",
    "\n",
    "    // Overwriting of source array with merged array\n",
    "    for (pos = 0; pos < ub - lb + 1; pos++) {\n",
    "        arr[lb + pos] = tmp[pos];\n",
    "    }\n",
    "    \n",
    "    // Free memory, used for tmp\n",
    "    delete[] tmp;\n",
    "}"
   ]
  },
  {
   "cell_type": "code",
   "execution_count": 23,
   "metadata": {},
   "outputs": [],
   "source": [
    "void merge_sort(int* arr, int l, int r) {\n",
    "    int splitPos;\n",
    "    if (l < r) {\n",
    "        // Recursively splits array into small parts\n",
    "        splitPos = (l + r) / 2;\n",
    "        merge_sort(arr, l, splitPos);\n",
    "        merge_sort(arr, splitPos+1, r);\n",
    "        // Merge 2 already sorted parts\n",
    "        merge_arrs(arr, l, splitPos, r);\n",
    "    }\n",
    "}"
   ]
  },
  {
   "cell_type": "code",
   "execution_count": 24,
   "metadata": {},
   "outputs": [
    {
     "name": "stdout",
     "output_type": "stream",
     "text": [
      "Source array:\t{ 9 11 52 77 87 38 64 8 72 1 }\n",
      "Result array:\t{ 1 8 9 11 38 52 64 72 77 87 }"
     ]
    }
   ],
   "source": [
    "int merge_example[ARRAY_SIZE];\n",
    "std::copy(std::begin(example), std::end(example), std::begin(merge_example));\n",
    "std::cout << \"Source array:\\t\";\n",
    "std::cout << pretty_arr(merge_example, ARRAY_SIZE) << '\\n';\n",
    "merge_sort(merge_example, 0, ARRAY_SIZE);\n",
    "std::cout << \"Result array:\\t\";\n",
    "std::cout << pretty_arr(merge_example, ARRAY_SIZE);"
   ]
  },
  {
   "cell_type": "markdown",
   "metadata": {},
   "source": [
    "## Counting Sort\n",
    "- *Type:* no strict category\n",
    "- *Speed:* $O(n + k)$, where $n$ is number of elements in array, $k$ is number of elements between minimal and maximal element."
   ]
  },
  {
   "cell_type": "markdown",
   "metadata": {},
   "source": [
    "### Visualization\n",
    "- [University of San Francisco](https://www.cs.usfca.edu/~galles/visualization/CountingSort.html)\n",
    "- [Visualgo](https://visualgo.net/bn/sorting)"
   ]
  },
  {
   "cell_type": "markdown",
   "metadata": {},
   "source": [
    "### Description\n",
    "Main idea of **Counting Sort** is creation of array, that contains, how often element appears in array. For example, array $[1,7,3,6,7,3,6,7]$, can be descriped in array $[1,0,2,0,0,2,3$].\n",
    "\n",
    "But if we use simple array, we can't contain negative number. Another idea is to use `std::map` for negative number."
   ]
  },
  {
   "cell_type": "markdown",
   "metadata": {},
   "source": [
    "### Implementation"
   ]
  },
  {
   "cell_type": "code",
   "execution_count": 25,
   "metadata": {},
   "outputs": [],
   "source": [
    "#include <map>"
   ]
  },
  {
   "cell_type": "code",
   "execution_count": 26,
   "metadata": {},
   "outputs": [],
   "source": [
    "void counting_sort(int* arr, int len) {\n",
    "    std::map<int, int> cnts;\n",
    "    for (int i = 0; i < len; i++) {\n",
    "        cnts[arr[i]]++;\n",
    "    }\n",
    "    \n",
    "    int pos = 0;\n",
    "    for (auto elem : cnts) {\n",
    "        for (int i = 0; i < elem.second; i++) {\n",
    "            arr[pos] = elem.first;\n",
    "            pos++;\n",
    "        }\n",
    "    }\n",
    "}"
   ]
  },
  {
   "cell_type": "code",
   "execution_count": 27,
   "metadata": {},
   "outputs": [
    {
     "name": "stdout",
     "output_type": "stream",
     "text": [
      "Source array:\t{ 9 11 52 77 87 38 64 8 72 1 }\n",
      "Result array:\t{ 1 8 9 11 38 52 64 72 77 87 }"
     ]
    }
   ],
   "source": [
    "int counting_example[ARRAY_SIZE];\n",
    "std::copy(std::begin(example), std::end(example), std::begin(counting_example));\n",
    "std::cout << \"Source array:\\t\";\n",
    "std::cout << pretty_arr(counting_example, ARRAY_SIZE) << '\\n';\n",
    "counting_sort(counting_example, ARRAY_SIZE);\n",
    "std::cout << \"Result array:\\t\";\n",
    "std::cout << pretty_arr(counting_example, ARRAY_SIZE);"
   ]
  },
  {
   "cell_type": "code",
   "execution_count": null,
   "metadata": {},
   "outputs": [],
   "source": []
  }
 ],
 "metadata": {
  "kernelspec": {
   "display_name": "C++17",
   "language": "C++17",
   "name": "xcpp17"
  },
  "language_info": {
   "codemirror_mode": "text/x-c++src",
   "file_extension": ".cpp",
   "mimetype": "text/x-c++src",
   "name": "c++",
   "version": "-std=c++17"
  }
 },
 "nbformat": 4,
 "nbformat_minor": 2
}
