{
 "cells": [
  {
   "cell_type": "markdown",
   "metadata": {},
   "source": [
    "# Sorts"
   ]
  },
  {
   "cell_type": "markdown",
   "metadata": {},
   "source": [
    "## Bubble Sort\n",
    "*Speed:* $O(n^2)$\n",
    "\n",
    "In this algorithm in each outer iteration every element compares with neighbour elements and swaps them, if they have incorrect order. After each outer iteration, \"heaviest\" or \"lightest\" element is on last ($lastPosition - outerIter$) position in array, so there is no needs to iterate all elements again.\n",
    "\n",
    "$[1,6,2,8,\\boldsymbol{0},3,7,3] \\Longrightarrow [6,2,8,1,3,7,3,\\boldsymbol{0}]$\n",
    "\n",
    "$[\\boldsymbol{1},6,2,8,0,3,7,3] \\Longrightarrow [6,8,2,3,7,3,\\boldsymbol{1},\\boldsymbol{0}]$\n",
    "\n",
    "$[6,8,\\boldsymbol{2},3,7,3,1,0] \\Longrightarrow [8,6,3,7,3,\\boldsymbol{2},\\boldsymbol{1},\\boldsymbol{0}]$\n",
    "\n",
    "$[8,6,\\boldsymbol{3},7,3,2,1,0] \\Longrightarrow [8,6,7,3,\\boldsymbol{3},\\boldsymbol{2},\\boldsymbol{1},\\boldsymbol{0}] $\n",
    "\n",
    "$[8,\\boldsymbol{6},7,3,3,2,1,0] \\Longrightarrow [8,7,\\boldsymbol{6},\\boldsymbol{3},\\boldsymbol{3},\\boldsymbol{2},\\boldsymbol{1},\\boldsymbol{0}] $\n",
    "\n",
    "### Python ver."
   ]
  },
  {
   "cell_type": "code",
   "execution_count": 13,
   "metadata": {},
   "outputs": [
    {
     "data": {
      "text/plain": [
       "[0, 1, 2, 2, 5, 5, 7, 7, 8, 9]"
      ]
     },
     "execution_count": 13,
     "metadata": {},
     "output_type": "execute_result"
    }
   ],
   "source": [
    "def bubble_sort(array):\n",
    "    for i in range(len(array)):\n",
    "        for j in range(len(array) - i - 1):\n",
    "            if array[j] > array[j + 1]:\n",
    "                t = array[j + 1]\n",
    "                array[j + 1] = array[j]\n",
    "                array[j] = t\n",
    "    return array\n",
    "\n",
    "bubble_sort([9,5,7,2,8,0,1,5,7,2])"
   ]
  },
  {
   "cell_type": "markdown",
   "metadata": {},
   "source": [
    "### C++ ver.\n",
    "\n",
    "```\n",
    "bubble_sort(\n",
    "```"
   ]
  }
 ],
 "metadata": {
  "kernelspec": {
   "display_name": "Python 3",
   "language": "python",
   "name": "python3"
  },
  "language_info": {
   "codemirror_mode": {
    "name": "ipython",
    "version": 3
   },
   "file_extension": ".py",
   "mimetype": "text/x-python",
   "name": "python",
   "nbconvert_exporter": "python",
   "pygments_lexer": "ipython3",
   "version": "3.7.1"
  }
 },
 "nbformat": 4,
 "nbformat_minor": 2
}
