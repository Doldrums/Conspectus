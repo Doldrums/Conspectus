{
 "cells": [
  {
   "cell_type": "markdown",
   "metadata": {},
   "source": [
    "# Sorts"
   ]
  },
  {
   "cell_type": "code",
   "execution_count": 13,
   "metadata": {},
   "outputs": [
    {
     "data": {
      "text/plain": [
       "[1, 51, 44, 37, 46, 1, 38, 38, 19, 79, 36, 57, 60, 91, 58, 37, 37, 45, 58, 36]"
      ]
     },
     "execution_count": 13,
     "metadata": {},
     "output_type": "execute_result"
    }
   ],
   "source": [
    "# Test array\n",
    "import random\n",
    "example = [random.randrange(0, 100) for x in range(20)]\n",
    "example"
   ]
  },
  {
   "cell_type": "markdown",
   "metadata": {},
   "source": [
    "## Bubble Sort\n",
    "*Type:* Exchange;\n",
    "\n",
    "*Speed:* $O(n^2)$.\n",
    "\n",
    "### Visualizations\n",
    "- [University of San Fancisco](https://www.cs.usfca.edu/~galles/visualization/ComparisonSort.html)\n",
    "- [VisuAlgo](https://visualgo.net/en/sorting)\n",
    "- [SORTING.at Algorithm Comparsion](http://sorting.at)\n",
    "\n",
    "### Description\n",
    "\n",
    "In this algorithm in each outer iteration every element compares with neighbour elements and swaps them, if they have incorrect order. After each outer iteration, \"heaviest\" or \"lightest\" element is on last ($lastPosition - outerIter$) position in array, so there is no needs to iterate all elements again.\n",
    "\n",
    "$[1,6,2,8,\\boldsymbol{0},3,7,3] \\Longrightarrow [6,2,8,1,3,7,3,\\boldsymbol{0}]$\n",
    "\n",
    "$[\\boldsymbol{1},6,2,8,0,3,7,3] \\Longrightarrow [6,8,2,3,7,3,\\boldsymbol{1},\\boldsymbol{0}]$\n",
    "\n",
    "$[6,8,\\boldsymbol{2},3,7,3,1,0] \\Longrightarrow [8,6,3,7,3,\\boldsymbol{2},\\boldsymbol{1},\\boldsymbol{0}]$\n",
    "\n",
    "$[8,6,\\boldsymbol{3},7,3,2,1,0] \\Longrightarrow [8,6,7,3,\\boldsymbol{3},\\boldsymbol{2},\\boldsymbol{1},\\boldsymbol{0}] $\n",
    "\n",
    "$[8,\\boldsymbol{6},7,3,3,2,1,0] \\Longrightarrow [8,7,\\boldsymbol{6},\\boldsymbol{3},\\boldsymbol{3},\\boldsymbol{2},\\boldsymbol{1},\\boldsymbol{0}] $\n",
    "\n",
    "### Python ver."
   ]
  },
  {
   "cell_type": "code",
   "execution_count": 14,
   "metadata": {},
   "outputs": [
    {
     "name": "stdout",
     "output_type": "stream",
     "text": [
      "Source:\t[1, 51, 44, 37, 46, 1, 38, 38, 19, 79, 36, 57, 60, 91, 58, 37, 37, 45, 58, 36]\n",
      "Swaps:\t77\n",
      "Sorted:\t[1, 1, 19, 36, 36, 37, 37, 37, 38, 38, 44, 45, 46, 51, 57, 58, 58, 60, 79, 91]\n"
     ]
    }
   ],
   "source": [
    "print(\"Source:\\t\" + str(example))\n",
    "def bubble_sort(array):\n",
    "    counter = 0 # COUNTER CODE\n",
    "    for i in range(len(array)):\n",
    "        for j in range(len(array) - i - 1):\n",
    "            if array[j] > array[j + 1]:\n",
    "                t = array[j + 1]\n",
    "                array[j + 1] = array[j]\n",
    "                array[j] = t\n",
    "                counter += 1 # COUNTER CODE\n",
    "    print(\"Swaps:\\t\" + str(counter))\n",
    "    return array\n",
    "\n",
    "cpy = example.copy()\n",
    "print(\"Sorted:\\t\" + str(bubble_sort(cpy)))\n"
   ]
  },
  {
   "cell_type": "markdown",
   "metadata": {},
   "source": [
    "### C++ ver.\n",
    "\n",
    "```c++\n",
    "void bubble_sort(int *arr, int len) {\n",
    "    for (int i = 0; i < len; i++) {\n",
    "        for (int j = 0; j < len - i - 1; j++) {\n",
    "            if (arr[j] < arr[j + 1])\n",
    "                std::swap(arr[j], arr[j + 1]);\n",
    "        }\n",
    "    }\n",
    "}\n",
    "```"
   ]
  },
  {
   "cell_type": "markdown",
   "metadata": {},
   "source": [
    "## Cocktail sort\n",
    "*Type:* Exchange;\n",
    "\n",
    "*Speed:* $O(n^2)$\n",
    "\n",
    "### Visualizations\n",
    "- [Algostructure](http://www.algostructure.com/sorting/cocktailsort.php)\n",
    "- [SORTING.at Algorithm Comparsion](http://sorting.at)\n",
    "\n",
    "### Description\n",
    "This algorithm is modified version on default bubble sort, but has two \"borders\", from each side, instead of one.\n",
    "\n",
    "## Python ver."
   ]
  },
  {
   "cell_type": "code",
   "execution_count": 15,
   "metadata": {},
   "outputs": [
    {
     "name": "stdout",
     "output_type": "stream",
     "text": [
      "Source:\t[1, 51, 44, 37, 46, 1, 38, 38, 19, 79, 36, 57, 60, 91, 58, 37, 37, 45, 58, 36]\n",
      "Swaps:\t77\n",
      "Sorted:\t[1, 1, 19, 36, 36, 37, 37, 37, 38, 38, 44, 45, 46, 51, 57, 58, 58, 60, 79, 91]\n"
     ]
    }
   ],
   "source": [
    "print(\"Source:\\t\" + str(example))\n",
    "def coctail_sort(array):\n",
    "    counter = 0 # COUNTER CODE\n",
    "    left = 0\n",
    "    right = len(array) - 1\n",
    "    while left <= right:\n",
    "        for i in range(left, right):\n",
    "            if array[i] > array[i + 1]:\n",
    "                t = array[i + 1]\n",
    "                array[i + 1] = array[i]\n",
    "                array[i] = t\n",
    "                counter += 1 # COUNTER CODE\n",
    "        right -= 1\n",
    "        for i in range (right, left, -1):\n",
    "            if array[i] < array[i - 1]:\n",
    "                t = array[i - 1]\n",
    "                array[i - 1] = array[i]\n",
    "                array[i] = t\n",
    "                counter += 1 # COUNTER CODE\n",
    "        left += 1\n",
    "    print(\"Swaps:\\t\" + str(counter))\n",
    "    return array\n",
    "\n",
    "cpy = example.copy()\n",
    "print(\"Sorted:\\t\" + str(coctail_sort(cpy)))\n",
    "            "
   ]
  },
  {
   "cell_type": "markdown",
   "metadata": {},
   "source": [
    "## Comb Sort\n",
    "*Type*: Exchange;\n",
    "\n",
    "*Worst time:* $O(n^2)$\n",
    "\n",
    "*Best time:* $O(n\\times log(n))$\n",
    "\n",
    "### Visualization\n",
    "- [Algostructure](http://www.algostructure.com/sorting/combsort.php)\n",
    "- [Sort Algorithms Comparsion](http://sorting.at)\n",
    "\n",
    "### Description\n",
    "\n",
    "**Comb Sort** is modified version of *Bubble Sort*, that uses *gap* between comparsing elements. Usually, *gap* starts with size, same as size of sorting container, and after iterations *gap* divides on *shrink factor* (usually, $1.3$).\n",
    "\n",
    "Main reason of this modification is resourse-intensive situations, when very small value is in end of sequence.\n",
    "\n",
    "### Python ver."
   ]
  },
  {
   "cell_type": "code",
   "execution_count": 16,
   "metadata": {},
   "outputs": [
    {
     "name": "stdout",
     "output_type": "stream",
     "text": [
      "Source:\t[1, 51, 44, 37, 46, 1, 38, 38, 19, 79, 36, 57, 60, 91, 58, 37, 37, 45, 58, 36]\n",
      "Swaps:\t22\n",
      "Sorted:\t[1, 1, 19, 36, 36, 37, 37, 37, 38, 38, 44, 45, 46, 51, 57, 58, 58, 60, 79, 91]\n"
     ]
    }
   ],
   "source": [
    "print(\"Source:\\t\" + str(example))\n",
    "def comb_sort(array):\n",
    "    counter = 0\n",
    "    shrink_factor = 1.3\n",
    "    gap = len(array) - 1\n",
    "    \n",
    "    while gap >= 1:\n",
    "        for i in range(len(array) - gap):\n",
    "            if array[i] > array[i + gap]:\n",
    "                t = array[i + gap]\n",
    "                array[i + gap] = array[i]\n",
    "                array[i] = t\n",
    "                counter += 1\n",
    "        gap = int(gap / shrink_factor)\n",
    "    print(\"Swaps:\\t\" + str(counter))\n",
    "    return array\n",
    "\n",
    "cpy = example.copy()\n",
    "print(\"Sorted:\\t\" + str(comb_sort(cpy)))"
   ]
  },
  {
   "cell_type": "markdown",
   "metadata": {},
   "source": [
    "```c++\n",
    "void bubble_sort(int *arr, int len)\n",
    "{\n",
    "    for (int i = 0; i < len; i++)\n",
    "    {\n",
    "        for (int j = 0; j < len - i - 1; j++)\n",
    "        {\n",
    "            if (arr[j] < arr[j + 1])\n",
    "                std::swap(arr[j], arr[j + 1]);\n",
    "        }\n",
    "    }\n",
    "}\n",
    "```"
   ]
  },
  {
   "cell_type": "markdown",
   "metadata": {},
   "source": [
    "## Odd-Even Sort\n",
    "*Type:* Exchange\n",
    "\n",
    "*Speed:* $O(n^2)$\n",
    "\n",
    "### Visualisation\n",
    "- [Algostructure](http://www.algostructure.com/sorting/oddevensort.php)\n",
    "\n",
    "### Description\n",
    "\n",
    "This algorithm is modification of default Bubble Sort with main correction, that odd and even elements compares independently"
   ]
  },
  {
   "cell_type": "code",
   "execution_count": 17,
   "metadata": {},
   "outputs": [
    {
     "name": "stdout",
     "output_type": "stream",
     "text": [
      "Source:\t[1, 51, 44, 37, 46, 1, 38, 38, 19, 79, 36, 57, 60, 91, 58, 37, 37, 45, 58, 36]\n",
      "Swaps:\t77\n",
      "Sorted:\t[1, 1, 19, 36, 36, 37, 37, 37, 38, 38, 44, 45, 46, 51, 57, 58, 58, 60, 79, 91]\n"
     ]
    }
   ],
   "source": [
    "print(\"Source:\\t\" + str(example))\n",
    "def odd_even_sort(array):\n",
    "    counter = 0 # COUNTER CODE\n",
    "    for i in range(len(array) - 1):\n",
    "        for j in range (2 if i % 2 is 0 else 1, len(array), 2):\n",
    "            if array[j] < array[j - 1]:\n",
    "                counter += 1 # COUNTER CODE\n",
    "                t = array[j]\n",
    "                array[j] = array[j - 1]\n",
    "                array[j - 1] = t\n",
    "    print(\"Swaps:\\t\" + str(counter)) # COUNTER CODE\n",
    "    return array\n",
    "\n",
    "cpy = example.copy()\n",
    "print(\"Sorted:\\t\" + str(odd_even_sort(cpy)))"
   ]
  },
  {
   "cell_type": "markdown",
   "metadata": {},
   "source": [
    "## Insertion Sort\n",
    "*Type:* Insertion;\n",
    "\n",
    "*Speed:* $O(n^2)$.\n",
    "\n",
    "This type of sort inserts every element into correct position of already sorted items.\n",
    "\n",
    "Every iteration algorithm selects current element and inserts it in position $j$, when condition $array[j - 1] < KEY$ becomes $FASLE$, or when it is smallest element of all sorted.\n",
    "\n",
    "### Python ver."
   ]
  },
  {
   "cell_type": "code",
   "execution_count": 18,
   "metadata": {},
   "outputs": [
    {
     "data": {
      "text/plain": [
       "[9, 8, 8, 8, 6, 6, 3, 3, 2, 1, 1]"
      ]
     },
     "execution_count": 18,
     "metadata": {},
     "output_type": "execute_result"
    }
   ],
   "source": [
    "def insertion_sort(array):\n",
    "    for i in range(1, len(array)):\n",
    "        KEY = array[i]\n",
    "        j = i\n",
    "        while j >= 1 and array[j - 1] < KEY:\n",
    "            array[j] = array[j - 1]\n",
    "            j -= 1\n",
    "        array[j] = KEY\n",
    "    return array\n",
    "\n",
    "insertion_sort([9,8,3,1,6,1,8,3,6,8,2])"
   ]
  }
 ],
 "metadata": {
  "kernelspec": {
   "display_name": "Python 3",
   "language": "python",
   "name": "python3"
  },
  "language_info": {
   "codemirror_mode": {
    "name": "ipython",
    "version": 3
   },
   "file_extension": ".py",
   "mimetype": "text/x-python",
   "name": "python",
   "nbconvert_exporter": "python",
   "pygments_lexer": "ipython3",
   "version": "3.7.1"
  }
 },
 "nbformat": 4,
 "nbformat_minor": 2
}
