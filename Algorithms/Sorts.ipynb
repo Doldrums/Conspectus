{
 "cells": [
  {
   "cell_type": "markdown",
   "metadata": {},
   "source": [
    "# Sorts"
   ]
  },
  {
   "cell_type": "code",
   "execution_count": 1,
   "metadata": {
    "scrolled": false
   },
   "outputs": [],
   "source": [
    "#define ARRAY_SIZE 10\n",
    "\n",
    "#include <iostream>\n",
    "#include <cstdlib>\n",
    "#include <algorithm>\n",
    "#include <string>\n",
    "\n",
    "int example[ARRAY_SIZE];\n",
    "for (int i = 0; i < ARRAY_SIZE; i++)\n",
    "    example[i] = std::rand() / 10000000;"
   ]
  },
  {
   "cell_type": "code",
   "execution_count": 2,
   "metadata": {},
   "outputs": [
    {
     "data": {
      "text/plain": [
       "{ 144, 1, 82, 14, 89, 147, 126, 199, 181, 113 }"
      ]
     },
     "execution_count": 2,
     "metadata": {},
     "output_type": "execute_result"
    }
   ],
   "source": [
    "example"
   ]
  },
  {
   "cell_type": "code",
   "execution_count": 3,
   "metadata": {},
   "outputs": [],
   "source": [
    "// Function for pretty output of array\n",
    "template<typename ARR>\n",
    "std::string pretty_arr(ARR* array, int len) {\n",
    "    std::string res = \"{ \";\n",
    "    for (int i = 0; i < len; i++)\n",
    "        if (i == len - 1)\n",
    "            res += std::to_string(array[i]);\n",
    "        else\n",
    "            res += std::to_string(array[i]) + ' ';\n",
    "    return res + \" }\";\n",
    "}"
   ]
  },
  {
   "cell_type": "markdown",
   "metadata": {},
   "source": [
    "## Bubble Sort\n",
    "- *Type:* Exchange\n",
    "- *Speed:* $O(n^2)$"
   ]
  },
  {
   "cell_type": "markdown",
   "metadata": {},
   "source": [
    "### Visualizations\n",
    "- [University of San Fancisco](https://www.cs.usfca.edu/~galles/visualization/ComparisonSort.html)\n",
    "- [VisuAlgo](https://visualgo.net/en/sorting)\n",
    "- [SORTING.at Algorithm Comparsion](http://sorting.at)"
   ]
  },
  {
   "cell_type": "markdown",
   "metadata": {},
   "source": [
    "### Description"
   ]
  },
  {
   "cell_type": "markdown",
   "metadata": {},
   "source": [
    "In this algorithm in each outer iteration every element compares with neighbour elements and swaps them, if they have incorrect order. After each outer iteration, \"heaviest\" or \"lightest\" element is on last ($lastPosition - outerIter$) position in array, so there is no needs to iterate all elements again.\n",
    "\n",
    "$[1,6,2,8,\\boldsymbol{0},3,7,3] \\Longrightarrow [6,2,8,1,3,7,3,\\boldsymbol{0}]$\n",
    "\n",
    "$[\\boldsymbol{1},6,2,8,0,3,7,3] \\Longrightarrow [6,8,2,3,7,3,\\boldsymbol{1},\\boldsymbol{0}]$\n",
    "\n",
    "$[6,8,\\boldsymbol{2},3,7,3,1,0] \\Longrightarrow [8,6,3,7,3,\\boldsymbol{2},\\boldsymbol{1},\\boldsymbol{0}]$\n",
    "\n",
    "$[8,6,\\boldsymbol{3},7,3,2,1,0] \\Longrightarrow [8,6,7,3,\\boldsymbol{3},\\boldsymbol{2},\\boldsymbol{1},\\boldsymbol{0}] $\n",
    "\n",
    "$[8,\\boldsymbol{6},7,3,3,2,1,0] \\Longrightarrow [8,7,\\boldsymbol{6},\\boldsymbol{3},\\boldsymbol{3},\\boldsymbol{2},\\boldsymbol{1},\\boldsymbol{0}] $"
   ]
  },
  {
   "cell_type": "markdown",
   "metadata": {},
   "source": [
    "### Implementation"
   ]
  },
  {
   "cell_type": "code",
   "execution_count": 4,
   "metadata": {},
   "outputs": [],
   "source": [
    "void bubble_sort(int* array, int len) {\n",
    "    int counter = 0; // COUNTER CODE\n",
    "    \n",
    "    for (int i = 0; i < len; i++)\n",
    "        for (int j = 0; j < len - i - 1; j++)\n",
    "            if (array[j] > array[j + 1]){\n",
    "                std::swap(array[j], array[j + 1]);\n",
    "                counter++; // COUNTER CODE\n",
    "            }\n",
    "    \n",
    "    std::cout << \"Swaps:\\t\" << counter << '\\n'; // COUNTER CODE\n",
    "}"
   ]
  },
  {
   "cell_type": "code",
   "execution_count": 5,
   "metadata": {},
   "outputs": [
    {
     "name": "stdout",
     "output_type": "stream",
     "text": [
      "Source:\t{ 144 1 82 14 89 147 126 199 181 113 }\n",
      "Swaps:\t13\n",
      "Result:\t{ 1 14 82 89 113 126 144 147 181 199 }"
     ]
    }
   ],
   "source": [
    "int bubble_example[ARRAY_SIZE];\n",
    "std::copy(std::begin(example), std::end(example), std::begin(bubble_example));\n",
    "std::cout << \"Source:\\t\";\n",
    "std::cout << pretty_arr(bubble_example, ARRAY_SIZE) << '\\n';\n",
    "bubble_sort(bubble_example, ARRAY_SIZE);\n",
    "std::cout << \"Result:\\t\";\n",
    "std::cout << pretty_arr(bubble_example, ARRAY_SIZE);"
   ]
  },
  {
   "cell_type": "markdown",
   "metadata": {},
   "source": [
    "## Cocktail sort\n",
    "- *Type:* Exchange\n",
    "- *Speed:* $O(n^2)$"
   ]
  },
  {
   "cell_type": "markdown",
   "metadata": {},
   "source": [
    "### Visualizations\n",
    "- [Algostructure](http://www.algostructure.com/sorting/cocktailsort.php)\n",
    "- [SORTING.at Algorithm Comparsion](http://sorting.at)"
   ]
  },
  {
   "cell_type": "markdown",
   "metadata": {},
   "source": [
    "### Description\n",
    "This algorithm is modified version on default bubble sort, but has two \"borders\", from each side, instead of one."
   ]
  },
  {
   "cell_type": "markdown",
   "metadata": {},
   "source": [
    "### Implementation"
   ]
  },
  {
   "cell_type": "code",
   "execution_count": 6,
   "metadata": {},
   "outputs": [],
   "source": [
    "void coctail_sort(int* array, int len) {\n",
    "    int counter = 0; // COUNTER CODE\n",
    "    int left = 0;\n",
    "    int right = len - 1;\n",
    "    while (left <= right) {\n",
    "        for (int i = left; i < right; i++)\n",
    "            if (array[i] > array[i + 1]) {\n",
    "                std::swap(array[i], array[i + 1]);\n",
    "                counter++; // COUNTER CODE\n",
    "            }\n",
    "        right--;\n",
    "        for (int i = right; i > left; i--)\n",
    "            if (array[i] < array[i - 1]) {\n",
    "                std::swap(array[i], array[i - 1]);\n",
    "                counter++; // COUNTER CODE\n",
    "            }\n",
    "        left++;\n",
    "    }\n",
    "    \n",
    "    std::cout << \"Swaps:\\t\" << counter << '\\n'; // COUNTER CODE\n",
    "}           "
   ]
  },
  {
   "cell_type": "code",
   "execution_count": 7,
   "metadata": {},
   "outputs": [
    {
     "name": "stdout",
     "output_type": "stream",
     "text": [
      "Source:\t{ 144 1 82 14 89 147 126 199 181 113 }\n",
      "Swaps:\t13\n",
      "Result:\t{ 1 14 82 89 113 126 144 147 181 199 }"
     ]
    }
   ],
   "source": [
    "int coctail_example[ARRAY_SIZE];\n",
    "std::copy(std::begin(example), std::end(example), std::begin(coctail_example));\n",
    "std::cout << \"Source:\\t\";\n",
    "std::cout << pretty_arr(coctail_example, ARRAY_SIZE) << '\\n';\n",
    "coctail_sort(coctail_example, ARRAY_SIZE);\n",
    "std::cout << \"Result:\\t\";\n",
    "std::cout << pretty_arr(coctail_example, ARRAY_SIZE);"
   ]
  },
  {
   "cell_type": "markdown",
   "metadata": {},
   "source": [
    "## Comb Sort\n",
    "- *Type*: Exchange\n",
    "- *Worst time:* $O(n^2)$\n",
    "- *Best time:* $O(n\\times log(n))$"
   ]
  },
  {
   "cell_type": "markdown",
   "metadata": {},
   "source": [
    "### Visualization\n",
    "- [Algostructure](http://www.algostructure.com/sorting/combsort.php)\n",
    "- [Sort Algorithms Comparsion](http://sorting.at)"
   ]
  },
  {
   "cell_type": "markdown",
   "metadata": {},
   "source": [
    "### Description"
   ]
  },
  {
   "cell_type": "markdown",
   "metadata": {},
   "source": [
    "**Comb Sort** is modified version of *Bubble Sort*, that uses *gap* between comparsing elements. Usually, *gap* starts with size, same as size of sorting container, and after iterations *gap* divides on *shrink factor* (usually, $1.3$).\n",
    "\n",
    "Main reason of this modification is resourse-intensive situations, when very small value is in end of sequence."
   ]
  },
  {
   "cell_type": "markdown",
   "metadata": {},
   "source": [
    "### Implementation"
   ]
  },
  {
   "cell_type": "code",
   "execution_count": 8,
   "metadata": {},
   "outputs": [],
   "source": [
    "void comb_sort(int* array, int len) {\n",
    "    int counter = 0; // COUNTER CODE\n",
    "    double shrink_factor = 1.3;\n",
    "    int gap = len - 1;\n",
    "    \n",
    "    while (gap >= 1) {\n",
    "        for (int i = 0; i < len - gap; i++)\n",
    "            if (array[i] > array[i + gap]) {\n",
    "                std::swap(array[i], array[i + gap]);\n",
    "                counter++; // COUNTER CODE\n",
    "            }\n",
    "        gap = gap / shrink_factor;\n",
    "    }\n",
    "    \n",
    "    std::cout << \"Swaps:\\t\" << counter << '\\n'; // COUNTER CODE\n",
    "}"
   ]
  },
  {
   "cell_type": "code",
   "execution_count": 9,
   "metadata": {},
   "outputs": [
    {
     "name": "stdout",
     "output_type": "stream",
     "text": [
      "Source:\t{ 144 1 82 14 89 147 126 199 181 113 }\n",
      "Swaps:\t7\n",
      "Result:\t{ 1 14 82 89 113 126 144 147 181 199 }"
     ]
    }
   ],
   "source": [
    "int comb_example[ARRAY_SIZE];\n",
    "std::copy(std::begin(example), std::end(example), std::begin(comb_example));\n",
    "std::cout << \"Source:\\t\";\n",
    "std::cout << pretty_arr(comb_example, ARRAY_SIZE) << '\\n';\n",
    "comb_sort(comb_example, ARRAY_SIZE);\n",
    "std::cout << \"Result:\\t\";\n",
    "std::cout << pretty_arr(comb_example, ARRAY_SIZE);"
   ]
  },
  {
   "cell_type": "markdown",
   "metadata": {},
   "source": [
    "## Odd-Even Sort\n",
    "- *Type:* Exchange\n",
    "- *Speed:* $O(n^2)$"
   ]
  },
  {
   "cell_type": "markdown",
   "metadata": {},
   "source": [
    "### Visualisation\n",
    "\n",
    "- [Algostructure](http://www.algostructure.com/sorting/oddevensort.php)"
   ]
  },
  {
   "cell_type": "markdown",
   "metadata": {},
   "source": [
    "### Description\n",
    "\n",
    "This algorithm is modification of default Bubble Sort with main correction, that odd and even elements compares independently"
   ]
  },
  {
   "cell_type": "markdown",
   "metadata": {},
   "source": [
    "### Python Ver."
   ]
  },
  {
   "cell_type": "code",
   "execution_count": 10,
   "metadata": {},
   "outputs": [
    {
     "name": "stderr",
     "output_type": "stream",
     "text": [
      "\u001b[1minput_line_21:10:9: \u001b[0m\u001b[0;1;35mwarning: \u001b[0m\u001b[1madd explicit braces to avoid dangling else [-Wdangling-else]\u001b[0m\n",
      "        else\n",
      "\u001b[0;1;32m        ^\n",
      "\u001b[0m"
     ]
    }
   ],
   "source": [
    "void odd_even_sort(int* array, int len) {\n",
    "    int counter = 0; // COUNTER CODE;\n",
    "    for (int i = 0; i < len - 1; i++)\n",
    "        if (i % 2 == 0)\n",
    "            for (int j = 2; j < len; j += 2)\n",
    "                if (array[j] < array[j - 1]) {\n",
    "                    std::swap(array[j], array[j - 1]);\n",
    "                    counter++; // COUNTER CODE;\n",
    "                }\n",
    "        else\n",
    "            for (int j = 1; j < len; j += 2)\n",
    "                if (array[j] < array[j - 1]) {\n",
    "                    std::swap(array[j], array[j - 1]);\n",
    "                    counter++; // COUNTER CODE;\n",
    "                }\n",
    "    \n",
    "    std::cout << \"Swaps:\\t\" << counter << '\\n'; // COUNTER CODE;\n",
    "}"
   ]
  },
  {
   "cell_type": "code",
   "execution_count": 11,
   "metadata": {},
   "outputs": [
    {
     "name": "stdout",
     "output_type": "stream",
     "text": [
      "Source:\t{ 144 1 82 14 89 147 126 199 181 113 }\n",
      "Swaps:\t13\n",
      "Result:\t{ 1 14 82 89 113 126 144 147 181 199 }"
     ]
    }
   ],
   "source": [
    "int odd_even_example[ARRAY_SIZE];\n",
    "std::copy(std::begin(example), std::end(example), std::begin(odd_even_example));\n",
    "std::cout << \"Source:\\t\";\n",
    "std::cout << pretty_arr(odd_even_example, ARRAY_SIZE) << '\\n';\n",
    "odd_even_sort(odd_even_example, ARRAY_SIZE);\n",
    "std::cout << \"Result:\\t\";\n",
    "std::cout << pretty_arr(odd_even_example, ARRAY_SIZE);"
   ]
  },
  {
   "cell_type": "markdown",
   "metadata": {},
   "source": [
    "## Insertion Sort\n",
    "- *Type:* Insertion\n",
    "- *Speed:* $O(n^2)$."
   ]
  },
  {
   "cell_type": "markdown",
   "metadata": {},
   "source": [
    "### Visualisations"
   ]
  },
  {
   "cell_type": "markdown",
   "metadata": {},
   "source": [
    "- [University of San Francisco](https://www.cs.usfca.edu/~galles/visualization/ComparisonSort.html)\n",
    "- [Algostructure](http://www.algostructure.com/sorting/insertionsort.php)"
   ]
  },
  {
   "cell_type": "markdown",
   "metadata": {},
   "source": [
    "### Description"
   ]
  },
  {
   "cell_type": "markdown",
   "metadata": {},
   "source": [
    "This type of sort inserts every element into correct position of already sorted items.\n",
    "\n",
    "Every iteration algorithm selects current element and inserts it in position $j$, when condition $array[j - 1] < KEY$ becomes $FASLE$, or when it is smallest element of all sorted."
   ]
  },
  {
   "cell_type": "markdown",
   "metadata": {},
   "source": [
    "### Python ver."
   ]
  },
  {
   "cell_type": "code",
   "execution_count": 12,
   "metadata": {},
   "outputs": [],
   "source": [
    "void insertion_sort(int* array, int len) {\n",
    "    int counter = 0; // COUNTER CODE;\n",
    "    \n",
    "    for (int i = 1; i < len; i++) {\n",
    "        \n",
    "        int KEY = array[i];\n",
    "        int j = i;\n",
    "        while (j >= 1 && array[j - 1] > KEY) {\n",
    "            array[j] = array[j - 1];\n",
    "            j -= 1;\n",
    "            counter++; // COUNTER CODE;\n",
    "        }\n",
    "        array[j] = KEY;\n",
    "        if (j == i) // COUNTER CODE;\n",
    "            counter++; // COUNTER CODE;\n",
    "    }\n",
    "    \n",
    "    std::cout << \"Swaps:\\t\" << counter << '\\n'; // COUNTER CODE;\n",
    "}"
   ]
  },
  {
   "cell_type": "code",
   "execution_count": 13,
   "metadata": {},
   "outputs": [
    {
     "name": "stdout",
     "output_type": "stream",
     "text": [
      "Source:\t{ 144 1 82 14 89 147 126 199 181 113 }\n",
      "Swaps:\t15\n",
      "Result:\t{ 1 14 82 89 113 126 144 147 181 199 }"
     ]
    }
   ],
   "source": [
    "int insertion_example[ARRAY_SIZE];\n",
    "std::copy(std::begin(example), std::end(example), std::begin(insertion_example));\n",
    "std::cout << \"Source:\\t\";\n",
    "std::cout << pretty_arr(insertion_example, ARRAY_SIZE) << '\\n';\n",
    "insertion_sort(insertion_example, ARRAY_SIZE);\n",
    "std::cout << \"Result:\\t\";\n",
    "std::cout << pretty_arr(insertion_example, ARRAY_SIZE);"
   ]
  }
 ],
 "metadata": {
  "kernelspec": {
   "display_name": "C++17",
   "language": "C++17",
   "name": "xcpp17"
  },
  "language_info": {
   "codemirror_mode": "text/x-c++src",
   "file_extension": ".cpp",
   "mimetype": "text/x-c++src",
   "name": "c++",
   "version": "-std=c++17"
  }
 },
 "nbformat": 4,
 "nbformat_minor": 2
}
