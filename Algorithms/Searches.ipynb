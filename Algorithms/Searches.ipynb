{
 "cells": [
  {
   "cell_type": "markdown",
   "metadata": {},
   "source": [
    "# Search Algorithms\n",
    "## Linear Search\n",
    "**Speed:** $O(n)$ *(slow)*\n",
    "\n",
    "### Visualisation\n",
    "- [University of San Francisco](https://www.cs.usfca.edu/~galles/visualization/Search.html)\n",
    "\n",
    "### Python ver."
   ]
  },
  {
   "cell_type": "code",
   "execution_count": 1,
   "metadata": {},
   "outputs": [
    {
     "data": {
      "text/plain": [
       "6"
      ]
     },
     "execution_count": 1,
     "metadata": {},
     "output_type": "execute_result"
    }
   ],
   "source": [
    "def linear_search(array, elem):\n",
    "    for i in range(len(array)):\n",
    "        if array[i] is elem:\n",
    "            return i\n",
    "    return -1\n",
    "        \n",
    "a = [1,2,3,4,5,6,7,8,9]\n",
    "\n",
    "linear_search(a, 7)"
   ]
  },
  {
   "cell_type": "markdown",
   "metadata": {},
   "source": [
    "### C++ ver.\n",
    "```c++\n",
    "template <typename ARR, typename EL>\n",
    "int linear_search(ARR* a, int len, EL elem) {\n",
    "    for (int i = 0; i < len; i++)\n",
    "        if (a[i] == elem)\n",
    "            return i;\n",
    "    return -1;\n",
    "}\n",
    "```"
   ]
  },
  {
   "cell_type": "markdown",
   "metadata": {},
   "source": [
    "### Contests\n",
    "- [Линейный поиск (informatics.msk.ru)](https://informatics.msk.ru/mod/statements/view.php?id=270)"
   ]
  },
  {
   "cell_type": "markdown",
   "metadata": {},
   "source": [
    "## Binary Search in Sorted Array\n",
    "**Speed:** $O(log(n))$ *(fastest search algo)*\n",
    "\n",
    "### Visualisation\n",
    "- [University of San Francisco](https://www.cs.usfca.edu/~galles/visualization/Search.html)\n",
    "\n",
    "### Description\n",
    "Main idea of this algorithm is to cut off a half of array every iteration. Because of it speed of algorithm is $O(log(n))$"
   ]
  },
  {
   "cell_type": "code",
   "execution_count": 2,
   "metadata": {},
   "outputs": [
    {
     "data": {
      "text/plain": [
       "2"
      ]
     },
     "execution_count": 2,
     "metadata": {},
     "output_type": "execute_result"
    }
   ],
   "source": [
    "def binary_search(array, elem):\n",
    "    l = 0\n",
    "    r = len(array) - 1\n",
    "    m = (l + r) / 2\n",
    "    while l != r:\n",
    "        if array[m] < elem:\n",
    "            l = m + 1\n",
    "        else:\n",
    "            r = m\n",
    "        \n",
    "        m = (l + r) / 2\n",
    "    return l\n",
    "\n",
    "a = [1,2,3,4,5,6,7,8,9]\n",
    "\n",
    "linear_search(a, 3)"
   ]
  },
  {
   "cell_type": "markdown",
   "metadata": {},
   "source": [
    "### C++ Ver.\n",
    "```c++\n",
    "template <typename ARR, typename EL>\n",
    "int binary_search(ARR* a, int len, EL elem) {\n",
    "    int l, r, m;\n",
    "    l = 0;\n",
    "    r = len - 1;\n",
    "    m = (l + r) / 2;\n",
    "    while (l != r) {\n",
    "        if (a[m] < elem)\n",
    "            l = m + 1;\n",
    "        else\n",
    "            r = m;\n",
    "\n",
    "        m = (l + r) / 2;\n",
    "    }\n",
    "    return l;\n",
    "}\n",
    "```"
   ]
  },
  {
   "cell_type": "markdown",
   "metadata": {},
   "source": [
    "### Contests\n",
    "- [Целочисленный бинарный поиск (informatics.msk.ru)](https://informatics.msk.ru/mod/statements/view.php?id=192)\n",
    "- [Бинарный поиск по ответу (informatics.msk.ru)](https://informatics.msk.ru/mod/statements/view.php?id=1966)\n",
    "- [Вещественный бинарный поиск (informatics.msk.ru)](https://informatics.msk.ru/mod/statements/view.php?id=3516)"
   ]
  }
 ],
 "metadata": {
  "kernelspec": {
   "display_name": "Python 3",
   "language": "python",
   "name": "python3"
  },
  "language_info": {
   "codemirror_mode": {
    "name": "ipython",
    "version": 3
   },
   "file_extension": ".py",
   "mimetype": "text/x-python",
   "name": "python",
   "nbconvert_exporter": "python",
   "pygments_lexer": "ipython3",
   "version": "3.7.1"
  }
 },
 "nbformat": 4,
 "nbformat_minor": 2
}
