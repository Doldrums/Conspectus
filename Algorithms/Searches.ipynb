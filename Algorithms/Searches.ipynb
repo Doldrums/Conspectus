{
 "cells": [
  {
   "cell_type": "markdown",
   "metadata": {},
   "source": [
    "# Search Algorithms"
   ]
  },
  {
   "cell_type": "markdown",
   "metadata": {},
   "source": [
    "## Example array"
   ]
  },
  {
   "cell_type": "code",
   "execution_count": 2,
   "metadata": {},
   "outputs": [],
   "source": [
    "#include <iostream>\n",
    "\n",
    "#define ARRAY_SIZE 15\n",
    "\n",
    "int example[ARRAY_SIZE] = {4,23,8,2,4,9,32,9,3,8,6,90,4,3,8};\n",
    "int sorted_example[ARRAY_SIZE] = {1,2,3,4,5,6,7,8,9,10,11,12,13,14,15};"
   ]
  },
  {
   "cell_type": "code",
   "execution_count": 3,
   "metadata": {},
   "outputs": [
    {
     "data": {
      "text/plain": [
       "{ 4, 23, 8, 2, 4, 9, 32, 9, 3, 8, 6, 90, 4, 3, 8 }"
      ]
     },
     "execution_count": 3,
     "metadata": {},
     "output_type": "execute_result"
    }
   ],
   "source": [
    "example"
   ]
  },
  {
   "cell_type": "markdown",
   "metadata": {},
   "source": [
    "## Linear Search\n",
    "**Speed:** $O(n)$ *(slow)*"
   ]
  },
  {
   "cell_type": "markdown",
   "metadata": {},
   "source": [
    "### Visualisation\n",
    "- [University of San Francisco](https://www.cs.usfca.edu/~galles/visualization/Search.html)"
   ]
  },
  {
   "cell_type": "markdown",
   "metadata": {},
   "source": [
    "### Implementation"
   ]
  },
  {
   "cell_type": "code",
   "execution_count": 4,
   "metadata": {},
   "outputs": [],
   "source": [
    "template <typename ARR, typename EL>\n",
    "int linear_search(ARR* a, int len, EL elem) {\n",
    "    for (int i = 0; i < len; i++)\n",
    "        if (a[i] == elem)\n",
    "            return i;\n",
    "    return -1;\n",
    "};"
   ]
  },
  {
   "cell_type": "code",
   "execution_count": 5,
   "metadata": {},
   "outputs": [
    {
     "data": {
      "text/plain": [
       "8"
      ]
     },
     "execution_count": 5,
     "metadata": {},
     "output_type": "execute_result"
    }
   ],
   "source": [
    "linear_search(example, ARRAY_SIZE, 3)"
   ]
  },
  {
   "cell_type": "markdown",
   "metadata": {},
   "source": [
    "### Contests\n",
    "- [Линейный поиск (informatics.msk.ru)](https://informatics.msk.ru/mod/statements/view.php?id=270)"
   ]
  },
  {
   "cell_type": "markdown",
   "metadata": {},
   "source": [
    "## Binary Search in Sorted Array\n",
    "**Speed:** $O(log(n))$ *(fastest search algo)*\n",
    "\n",
    "### Visualisation\n",
    "- [University of San Francisco](https://www.cs.usfca.edu/~galles/visualization/Search.html)\n",
    "\n",
    "### Description\n",
    "Main idea of this algorithm is to cut off a half of array every iteration. Because of it speed of algorithm is $O(log(n))$"
   ]
  },
  {
   "cell_type": "code",
   "execution_count": 6,
   "metadata": {},
   "outputs": [],
   "source": [
    "template <typename ARR, typename EL>\n",
    "int binary_search(ARR* a, int len, EL elem) {\n",
    "    int l, r, m;\n",
    "    l = 0;\n",
    "    r = len - 1;\n",
    "    m = (l + r) / 2;\n",
    "    while (l != r) {\n",
    "        if (a[m] < elem)\n",
    "            l = m + 1;\n",
    "        else\n",
    "            r = m;\n",
    "\n",
    "        m = (l + r) / 2;\n",
    "    }\n",
    "    return l;\n",
    "}"
   ]
  },
  {
   "cell_type": "code",
   "execution_count": 9,
   "metadata": {},
   "outputs": [
    {
     "data": {
      "text/plain": [
       "7"
      ]
     },
     "execution_count": 9,
     "metadata": {},
     "output_type": "execute_result"
    }
   ],
   "source": [
    "binary_search(sorted_example, ARRAY_SIZE, 8)"
   ]
  },
  {
   "cell_type": "markdown",
   "metadata": {},
   "source": [
    "### Contests\n",
    "- [Целочисленный бинарный поиск (informatics.msk.ru)](https://informatics.msk.ru/mod/statements/view.php?id=192)\n",
    "- [Бинарный поиск по ответу (informatics.msk.ru)](https://informatics.msk.ru/mod/statements/view.php?id=1966)\n",
    "- [Вещественный бинарный поиск (informatics.msk.ru)](https://informatics.msk.ru/mod/statements/view.php?id=3516)"
   ]
  }
 ],
 "metadata": {
  "kernelspec": {
   "display_name": "C++17",
   "language": "C++17",
   "name": "xcpp17"
  },
  "language_info": {
   "codemirror_mode": "text/x-c++src",
   "file_extension": ".cpp",
   "mimetype": "text/x-c++src",
   "name": "c++",
   "version": "-std=c++17"
  },
  "widgets": {
   "application/vnd.jupyter.widget-state+json": {
    "state": {},
    "version_major": 2,
    "version_minor": 0
   }
  }
 },
 "nbformat": 4,
 "nbformat_minor": 2
}
