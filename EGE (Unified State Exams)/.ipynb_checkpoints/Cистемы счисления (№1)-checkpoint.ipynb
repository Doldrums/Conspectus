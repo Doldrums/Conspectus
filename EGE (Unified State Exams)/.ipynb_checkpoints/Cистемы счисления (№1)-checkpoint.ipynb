{
 "cells": [
  {
   "cell_type": "markdown",
   "metadata": {},
   "source": [
    "# Задание №1: Системы счисления \n",
    "*Основания систем счисления:* 2, 4, 8, 10, 16.\n"
   ]
  },
  {
   "cell_type": "markdown",
   "metadata": {},
   "source": [
    "## Возможные темы заданий\n",
    "- Перевод между системами счислений (далее — СС)\n",
    "- Простые арифметические действия (в т.ч. и в разных СС)\n",
    "- Анализ количества цифр 0/1 в двоичной записи числа (Олимпиада ИТМО, 10 кл., №1 на минималках)\n",
    "- Нахождения числа по количеству цифр 0/1 в двоичной записи (Олимпиада ИТМО, 10 кл., №1 на средних)\n",
    "- Проверка неравенств на истинность или ложность\n",
    "- Нахождение максимального/минимального числа\n",
    "- Нахождение количества чисел в интервале/отрезке/полуинтервале"
   ]
  },
  {
   "cell_type": "markdown",
   "metadata": {},
   "source": [
    "## Таблицы переводов\n",
    "\n",
    "| $$x_{16}$$ | $$x_{10}$$ | $$x_{8}$$ | $$x_{4}$$ | $$x_{2}$$ |\n",
    "|------------|------------|-----------|-----------|-----------|\n",
    "|   **0**    |   **00**   |   **00**  |  **00**   | **0000**  |\n",
    "|   **1**    |   **01**   |   **01**  |  **01**   | **0001**  |\n",
    "|   **2**    |   **02**   |   **02**  |  **02**   |  *0010*   |\n",
    "|   **3**    |   **03**   |   **03**  |  **03**   |  *0011*   |\n",
    "|   **4**    |   **04**   |   **04**  |   *10*    |  *0100*   |\n",
    "|   **5**    |   **05**   |   **05**  |   *11*    |  *0101*   |\n",
    "|   **6**    |   **06**   |   **06**  |   *12*    |  *0110*   |\n",
    "|   **7**    |   **07**   |   **07**  |   *13*    |  *0111*   |\n",
    "|   **8**    |   **08**   |    *10*   |   *20*    |  *1000*   |\n",
    "|   **9**    |   **09**   |    *11*   |   *21*    |  *1001*   |\n",
    "|   **A**    |    *10*    |    *12*   |   *22*    |  *1010*   |\n",
    "|   **B**    |    *11*    |    *13*   |   *23*    |  *1011*   |\n",
    "|   **C**    |    *12*    |    *14*   |   *30*    |  *1100*   |\n",
    "|   **D**    |    *13*    |    *15*   |   *31*    |  *1101*   |\n",
    "|   **E**    |    *14*    |    *16*   |   *32*    |  *1110*   |\n",
    "|   **F**    |    *15*    |    *17*   |   *33*    |  *1111*   |"
   ]
  },
  {
   "cell_type": "code",
   "execution_count": null,
   "metadata": {},
   "outputs": [],
   "source": [
    "from IPython.core.display import display, HTML\n",
    "display(HTML(\"<style>.text_cell_render > table {\\\n",
    "        width:100%;\\\n",
    "    }\\\n",
    "    .text_cell_render > table td { text-align: center}\\\n",
    "</style>\"))\n",
    "\n",
    "HTML('''<script>\n",
    "code_show=true; \n",
    "function code_toggle() {\n",
    " if (code_show){\n",
    " $('div.input').hide();\n",
    " } else {\n",
    " $('div.input').show();\n",
    " }\n",
    " code_show = !code_show\n",
    "} \n",
    "$( document ).ready(code_toggle);\n",
    "</script>\n",
    "This raw code contains style extensions for better look. Show more <a href=\"javascript:code_toggle()\">here</a>.''')"
   ]
  }
 ],
 "metadata": {
  "kernelspec": {
   "display_name": "Python 3",
   "language": "python",
   "name": "python3"
  },
  "language_info": {
   "codemirror_mode": {
    "name": "ipython",
    "version": 3
   },
   "file_extension": ".py",
   "mimetype": "text/x-python",
   "name": "python",
   "nbconvert_exporter": "python",
   "pygments_lexer": "ipython3",
   "version": "3.7.1"
  }
 },
 "nbformat": 4,
 "nbformat_minor": 2
}
